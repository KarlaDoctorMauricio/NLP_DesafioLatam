{
 "cells": [
  {
   "cell_type": "code",
   "execution_count": 3,
   "metadata": {},
   "outputs": [],
   "source": [
    "from re import U\n",
    "import chromadb \n",
    "from openai import OpenAI \n",
    "from dotenv import load_dotenv\n",
    "\n",
    "load_dotenv()\n",
    "\n",
    "#Setting the enviroment\n",
    "DATA_PATH = r\"data\"\n",
    "CHROMA_PATH = r\"chroma_db\"\n",
    "\n",
    "chroma_client = chromadb.PersistentClient(path = CHROMA_PATH)\n",
    "collection = chroma_client.get_or_create_collection(name = \"courses\")"
   ]
  },
  {
   "cell_type": "code",
   "execution_count": 7,
   "metadata": {},
   "outputs": [
    {
     "name": "stdout",
     "output_type": "stream",
     "text": [
      "\n",
      "\n",
      "-------------------\n",
      "\n",
      "\n",
      "No sé.\n"
     ]
    }
   ],
   "source": [
    "user_query = input(\"¿Qué te gustaría saber sobre los recursos disponibles?\\n\\n\")\n",
    "\n",
    "results = collection.query(\n",
    "    query_texts = [user_query],\n",
    "    n_results = 1\n",
    ")\n",
    "\n",
    "client = OpenAI()\n",
    "\n",
    "system_prompt = \"\"\"\n",
    "Eres un asistente útil. Respondes preguntas sobre los mejores cursos para estudiantes de DesafioLatam.\n",
    "Pero solo respondes basándote en el conocimiento que te proporciono. No usas tu conocimiento interno ni inventas nada.\n",
    "\n",
    "Si no sabes la respuesta, simplemente dices: 'No sé'.\n",
    "_______________________________\n",
    "Estos son los cursos disponibles:\n",
    "\n",
    "\"\"\"+str(results['documents'])+\"\"\"\n",
    "\n",
    "\"\"\"\n",
    "\n",
    "response = client.chat.completions.create(\n",
    "    model = \"gpt-4o-mini\",\n",
    "    messages = [ \n",
    "        {\"role\": \"system\", \"content\": system_prompt},\n",
    "        {\"role\": \"user\"  , \"content\": user_query}\n",
    "    ]\n",
    ")\n",
    "\n",
    "print(\"\\n\\n-------------------\\n\\n\")\n",
    "print(response.choices[0].message.content)"
   ]
  },
  {
   "cell_type": "code",
   "execution_count": 6,
   "metadata": {},
   "outputs": [
    {
     "data": {
      "text/plain": [
       "{'ids': [['ID0']],\n",
       " 'embeddings': None,\n",
       " 'documents': [['Lo que aprenderÃ¡s:\\n  Desde los conceptos bÃ¡sicos de redes neuronales\\n  ImplementaciÃ³n paso a paso, Â¡incluso con Excel!\\n  CÃ³mo llevar a Python para proyectos reales']],\n",
       " 'uris': None,\n",
       " 'data': None,\n",
       " 'metadatas': [[{'source': 'data\\\\8.txt'}]],\n",
       " 'distances': [[1.257444830951952]],\n",
       " 'included': [<IncludeEnum.distances: 'distances'>,\n",
       "  <IncludeEnum.documents: 'documents'>,\n",
       "  <IncludeEnum.metadatas: 'metadatas'>]}"
      ]
     },
     "execution_count": 6,
     "metadata": {},
     "output_type": "execute_result"
    }
   ],
   "source": [
    "results"
   ]
  },
  {
   "cell_type": "code",
   "execution_count": null,
   "metadata": {},
   "outputs": [],
   "source": []
  }
 ],
 "metadata": {
  "interpreter": {
   "hash": "ef5b8d18e6fdfd933dcf2d87676eea39b16d717784d6db55cec332fd8bca603e"
  },
  "kernelspec": {
   "display_name": "Python 3.9.13 64-bit (windows store)",
   "language": "python",
   "name": "python3"
  },
  "language_info": {
   "codemirror_mode": {
    "name": "ipython",
    "version": 3
   },
   "file_extension": ".py",
   "mimetype": "text/x-python",
   "name": "python",
   "nbconvert_exporter": "python",
   "pygments_lexer": "ipython3",
   "version": "3.9.13"
  },
  "orig_nbformat": 4
 },
 "nbformat": 4,
 "nbformat_minor": 2
}
