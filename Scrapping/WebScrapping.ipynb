{
 "cells": [
  {
   "cell_type": "code",
   "execution_count": 103,
   "metadata": {},
   "outputs": [
    {
     "name": "stdout",
     "output_type": "stream",
     "text": [
      "Requirement already satisfied: selenium==4.0.0 in c:\\users\\52477\\appdata\\local\\packages\\pythonsoftwarefoundation.python.3.9_qbz5n2kfra8p0\\localcache\\local-packages\\python39\\site-packages (from -r requirements.txt (line 1)) (4.0.0)\n",
      "Requirement already satisfied: beautifulsoup4==4.12.0 in c:\\users\\52477\\appdata\\local\\packages\\pythonsoftwarefoundation.python.3.9_qbz5n2kfra8p0\\localcache\\local-packages\\python39\\site-packages (from -r requirements.txt (line 2)) (4.12.0)\n",
      "Requirement already satisfied: python-dotenv==1.0.0 in c:\\users\\52477\\appdata\\local\\packages\\pythonsoftwarefoundation.python.3.9_qbz5n2kfra8p0\\localcache\\local-packages\\python39\\site-packages (from -r requirements.txt (line 3)) (1.0.0)\n",
      "Requirement already satisfied: pandas==2.1.0 in c:\\users\\52477\\appdata\\local\\packages\\pythonsoftwarefoundation.python.3.9_qbz5n2kfra8p0\\localcache\\local-packages\\python39\\site-packages (from -r requirements.txt (line 4)) (2.1.0)\n",
      "Requirement already satisfied: requests==2.31.0 in c:\\users\\52477\\appdata\\local\\packages\\pythonsoftwarefoundation.python.3.9_qbz5n2kfra8p0\\localcache\\local-packages\\python39\\site-packages (from -r requirements.txt (line 5)) (2.31.0)\n",
      "Requirement already satisfied: urllib3~=1.26 in c:\\users\\52477\\appdata\\local\\packages\\pythonsoftwarefoundation.python.3.9_qbz5n2kfra8p0\\localcache\\local-packages\\python39\\site-packages (from urllib3[secure]~=1.26->selenium==4.0.0->-r requirements.txt (line 1)) (1.26.20)\n",
      "Requirement already satisfied: trio~=0.17 in c:\\users\\52477\\appdata\\local\\packages\\pythonsoftwarefoundation.python.3.9_qbz5n2kfra8p0\\localcache\\local-packages\\python39\\site-packages (from selenium==4.0.0->-r requirements.txt (line 1)) (0.22.0)\n",
      "Requirement already satisfied: trio-websocket~=0.9 in c:\\users\\52477\\appdata\\local\\packages\\pythonsoftwarefoundation.python.3.9_qbz5n2kfra8p0\\localcache\\local-packages\\python39\\site-packages (from selenium==4.0.0->-r requirements.txt (line 1)) (0.10.2)\n",
      "Requirement already satisfied: soupsieve>1.2 in c:\\users\\52477\\appdata\\local\\packages\\pythonsoftwarefoundation.python.3.9_qbz5n2kfra8p0\\localcache\\local-packages\\python39\\site-packages (from beautifulsoup4==4.12.0->-r requirements.txt (line 2)) (2.6)\n",
      "Requirement already satisfied: numpy>=1.22.4 in c:\\users\\52477\\appdata\\local\\packages\\pythonsoftwarefoundation.python.3.9_qbz5n2kfra8p0\\localcache\\local-packages\\python39\\site-packages (from pandas==2.1.0->-r requirements.txt (line 4)) (1.26.4)\n",
      "Requirement already satisfied: python-dateutil>=2.8.2 in c:\\users\\52477\\appdata\\local\\packages\\pythonsoftwarefoundation.python.3.9_qbz5n2kfra8p0\\localcache\\local-packages\\python39\\site-packages (from pandas==2.1.0->-r requirements.txt (line 4)) (2.8.2)\n",
      "Requirement already satisfied: pytz>=2020.1 in c:\\users\\52477\\appdata\\local\\packages\\pythonsoftwarefoundation.python.3.9_qbz5n2kfra8p0\\localcache\\local-packages\\python39\\site-packages (from pandas==2.1.0->-r requirements.txt (line 4)) (2021.3)\n",
      "Requirement already satisfied: tzdata>=2022.1 in c:\\users\\52477\\appdata\\local\\packages\\pythonsoftwarefoundation.python.3.9_qbz5n2kfra8p0\\localcache\\local-packages\\python39\\site-packages (from pandas==2.1.0->-r requirements.txt (line 4)) (2024.2)\n",
      "Requirement already satisfied: charset-normalizer<4,>=2 in c:\\users\\52477\\appdata\\local\\packages\\pythonsoftwarefoundation.python.3.9_qbz5n2kfra8p0\\localcache\\local-packages\\python39\\site-packages (from requests==2.31.0->-r requirements.txt (line 5)) (2.0.12)\n",
      "Requirement already satisfied: idna<4,>=2.5 in c:\\users\\52477\\appdata\\local\\packages\\pythonsoftwarefoundation.python.3.9_qbz5n2kfra8p0\\localcache\\local-packages\\python39\\site-packages (from requests==2.31.0->-r requirements.txt (line 5)) (3.3)\n",
      "Requirement already satisfied: certifi>=2017.4.17 in c:\\users\\52477\\appdata\\local\\packages\\pythonsoftwarefoundation.python.3.9_qbz5n2kfra8p0\\localcache\\local-packages\\python39\\site-packages (from requests==2.31.0->-r requirements.txt (line 5)) (2021.10.8)\n",
      "Requirement already satisfied: six>=1.5 in c:\\users\\52477\\appdata\\local\\packages\\pythonsoftwarefoundation.python.3.9_qbz5n2kfra8p0\\localcache\\local-packages\\python39\\site-packages (from python-dateutil>=2.8.2->pandas==2.1.0->-r requirements.txt (line 4)) (1.16.0)\n",
      "Requirement already satisfied: attrs>=19.2.0 in c:\\users\\52477\\appdata\\local\\packages\\pythonsoftwarefoundation.python.3.9_qbz5n2kfra8p0\\localcache\\local-packages\\python39\\site-packages (from trio~=0.17->selenium==4.0.0->-r requirements.txt (line 1)) (24.2.0)\n",
      "Requirement already satisfied: sortedcontainers in c:\\users\\52477\\appdata\\local\\packages\\pythonsoftwarefoundation.python.3.9_qbz5n2kfra8p0\\localcache\\local-packages\\python39\\site-packages (from trio~=0.17->selenium==4.0.0->-r requirements.txt (line 1)) (2.4.0)\n",
      "Requirement already satisfied: async-generator>=1.9 in c:\\users\\52477\\appdata\\local\\packages\\pythonsoftwarefoundation.python.3.9_qbz5n2kfra8p0\\localcache\\local-packages\\python39\\site-packages (from trio~=0.17->selenium==4.0.0->-r requirements.txt (line 1)) (1.10)\n",
      "Requirement already satisfied: outcome in c:\\users\\52477\\appdata\\local\\packages\\pythonsoftwarefoundation.python.3.9_qbz5n2kfra8p0\\localcache\\local-packages\\python39\\site-packages (from trio~=0.17->selenium==4.0.0->-r requirements.txt (line 1)) (1.2.0)\n",
      "Requirement already satisfied: sniffio in c:\\users\\52477\\appdata\\local\\packages\\pythonsoftwarefoundation.python.3.9_qbz5n2kfra8p0\\localcache\\local-packages\\python39\\site-packages (from trio~=0.17->selenium==4.0.0->-r requirements.txt (line 1)) (1.3.0)\n",
      "Requirement already satisfied: cffi>=1.14 in c:\\users\\52477\\appdata\\local\\packages\\pythonsoftwarefoundation.python.3.9_qbz5n2kfra8p0\\localcache\\local-packages\\python39\\site-packages (from trio~=0.17->selenium==4.0.0->-r requirements.txt (line 1)) (1.15.0)\n",
      "Requirement already satisfied: exceptiongroup>=1.0.0rc9 in c:\\users\\52477\\appdata\\local\\packages\\pythonsoftwarefoundation.python.3.9_qbz5n2kfra8p0\\localcache\\local-packages\\python39\\site-packages (from trio~=0.17->selenium==4.0.0->-r requirements.txt (line 1)) (1.1.1)\n",
      "Requirement already satisfied: wsproto>=0.14 in c:\\users\\52477\\appdata\\local\\packages\\pythonsoftwarefoundation.python.3.9_qbz5n2kfra8p0\\localcache\\local-packages\\python39\\site-packages (from trio-websocket~=0.9->selenium==4.0.0->-r requirements.txt (line 1)) (1.2.0)\n",
      "Requirement already satisfied: pyOpenSSL>=0.14 in c:\\users\\52477\\appdata\\local\\packages\\pythonsoftwarefoundation.python.3.9_qbz5n2kfra8p0\\localcache\\local-packages\\python39\\site-packages (from urllib3[secure]~=1.26->selenium==4.0.0->-r requirements.txt (line 1)) (21.0.0)\n",
      "Requirement already satisfied: cryptography>=1.3.4 in c:\\users\\52477\\appdata\\local\\packages\\pythonsoftwarefoundation.python.3.9_qbz5n2kfra8p0\\localcache\\local-packages\\python39\\site-packages (from urllib3[secure]~=1.26->selenium==4.0.0->-r requirements.txt (line 1)) (35.0.0)\n",
      "Requirement already satisfied: urllib3-secure-extra in c:\\users\\52477\\appdata\\local\\packages\\pythonsoftwarefoundation.python.3.9_qbz5n2kfra8p0\\localcache\\local-packages\\python39\\site-packages (from urllib3[secure]~=1.26->selenium==4.0.0->-r requirements.txt (line 1)) (0.1.0)\n",
      "Requirement already satisfied: pycparser in c:\\users\\52477\\appdata\\local\\packages\\pythonsoftwarefoundation.python.3.9_qbz5n2kfra8p0\\localcache\\local-packages\\python39\\site-packages (from cffi>=1.14->trio~=0.17->selenium==4.0.0->-r requirements.txt (line 1)) (2.20)\n",
      "Requirement already satisfied: h11<1,>=0.9.0 in c:\\users\\52477\\appdata\\local\\packages\\pythonsoftwarefoundation.python.3.9_qbz5n2kfra8p0\\localcache\\local-packages\\python39\\site-packages (from wsproto>=0.14->trio-websocket~=0.9->selenium==4.0.0->-r requirements.txt (line 1)) (0.14.0)\n"
     ]
    },
    {
     "name": "stderr",
     "output_type": "stream",
     "text": [
      "\n",
      "[notice] A new release of pip is available: 24.1.1 -> 24.3.1\n",
      "[notice] To update, run: C:\\Users\\52477\\AppData\\Local\\Microsoft\\WindowsApps\\PythonSoftwareFoundation.Python.3.9_qbz5n2kfra8p0\\python.exe -m pip install --upgrade pip\n"
     ]
    }
   ],
   "source": [
    "!pip install -r requirements.txt"
   ]
  },
  {
   "cell_type": "code",
   "execution_count": 104,
   "metadata": {},
   "outputs": [],
   "source": [
    "from selenium import webdriver\n",
    "from selenium.webdriver.common.by import By\n",
    "from selenium.webdriver.common.keys import Keys\n",
    "from selenium.webdriver.common.action_chains import ActionChains\n",
    "from selenium.webdriver.support.ui import WebDriverWait\n",
    "from selenium.webdriver.support import expected_conditions as EC\n",
    "from bs4 import BeautifulSoup\n",
    "from dotenv import load_dotenv\n",
    "import pandas as pd\n",
    "import time\n",
    "import requests\n",
    "import os"
   ]
  },
  {
   "cell_type": "markdown",
   "metadata": {},
   "source": [
    "# Load Enviroment Variables"
   ]
  },
  {
   "cell_type": "code",
   "execution_count": 105,
   "metadata": {},
   "outputs": [],
   "source": [
    "load_dotenv()\n",
    "chromedriver_path = os.getenv('CHROMEDRIVER')\n",
    "email = os.getenv('EMAIL')\n",
    "password = os.getenv('PASSWORD')"
   ]
  },
  {
   "cell_type": "markdown",
   "metadata": {},
   "source": [
    "# Functions"
   ]
  },
  {
   "cell_type": "code",
   "execution_count": 106,
   "metadata": {},
   "outputs": [],
   "source": [
    "def start_session(login_url):\n",
    "    # Launch the browser with Selenium\n",
    "    driver = webdriver.Chrome(executable_path=chromedriver_path)\n",
    "\n",
    "    # Open the login page\n",
    "    driver.get(login_url)\n",
    "\n",
    "    # Wait until the login fields are available on the page\n",
    "    WebDriverWait(driver, 10).until(EC.presence_of_element_located((By.ID, 'user[email]')))\n",
    "\n",
    "    # Find the email and password fields by their ID\n",
    "    email_field = driver.find_element(By.ID, 'user[email]')\n",
    "    password_field = driver.find_element(By.ID, 'user[password]')\n",
    "\n",
    "    # Enter the credentials (replace with your actual email and password)\n",
    "    email_field.send_keys(email)  # Replace with your email\n",
    "    password_field.send_keys(password)  # Replace with your password\n",
    "\n",
    "    # Find and click the login button by its class name\n",
    "    submit_button = driver.find_element(By.CLASS_NAME, 'button-primary')\n",
    "    submit_button.click()\n",
    "    \n",
    "    # Return the driver object (which now represents the logged-in session)\n",
    "    return driver\n",
    "\n",
    "def scraping(files, driver):\n",
    "    # Check if the folder exists, if not, create it\n",
    "    if not os.path.exists('courses_web_page'):\n",
    "       os.makedirs('courses_web_page')\n",
    "\n",
    "    # Loop through each course in the 'files' DataFrame\n",
    "    for idx in range(files.shape[0]):\n",
    "        file = files.iloc[idx]\n",
    "        url = file['url']\n",
    "\n",
    "        # Check if the file type is either 'free_course' or 'paid_course'\n",
    "        if file['type'] == 'free_course' or file['type'] == 'paid_course':  \n",
    "            driver.get(url)\n",
    "            # Wait for the page to load the element with class 'fr-view' (it could be the main content area)\n",
    "            WebDriverWait(driver, 10).until(EC.presence_of_element_located((By.CLASS_NAME, 'fr-view')))\n",
    "\n",
    "            # Get the page source (HTML) from the loaded page\n",
    "            html = driver.page_source\n",
    "\n",
    "            # Create a BeautifulSoup object using the HTML source from Selenium\n",
    "            soup = BeautifulSoup(html, 'html.parser')\n",
    "\n",
    "            # Extract all the text content from the page using BeautifulSoup\n",
    "            text = soup.get_text()\n",
    "\n",
    "            # Split the extracted text into individual lines\n",
    "            lines = text.splitlines()\n",
    "\n",
    "            # Initialize variables to store the start and end positions of the desired text sections\n",
    "            start_index = None\n",
    "            end_index = None\n",
    "\n",
    "            for i, line in enumerate(lines):\n",
    "                if 'Descripción' in line:\n",
    "                    start_index = i\n",
    "                    break \n",
    "\n",
    "            for i, line in enumerate(lines):\n",
    "                if '¡Vamos con todo!' in line:\n",
    "                    end_index = i\n",
    "                    break\n",
    "\n",
    "            if start_index is not None and end_index is not None:\n",
    "                section_text = '\\n'.join(lines[start_index:end_index]).strip()\n",
    "            else:\n",
    "                section_text = \"Sections aren't found.\"\n",
    "            \n",
    "            with open('courses_web_page/' +str(idx) + '.txt', 'w',  encoding='utf-8') as archivo:\n",
    "                archivo.write(section_text)\n",
    "\n",
    "        # Check if the file type is 'free_tutorial'        \n",
    "        elif file['type'] == 'free_tutorial':\n",
    "            driver.get(url)\n",
    "            # Wait for the page to load the specific element for the tutorial section\n",
    "            WebDriverWait(driver, 20).until(EC.presence_of_element_located((By.CSS_SELECTOR, \".section__subheading.section__subheading___f5420\")))\n",
    "\n",
    "            # Get the page source (HTML) from the loaded page\n",
    "            html = driver.page_source\n",
    "\n",
    "            # Create a BeautifulSoup object using the HTML source from Selenium\n",
    "            soup = BeautifulSoup(html, 'html.parser')\n",
    "\n",
    "            # Find all paragraph elements with the class 'section__subheading section__subheading___f5420'\n",
    "            elements = soup.find_all('p', class_='section__subheading section__subheading___f5420')\n",
    "\n",
    "            with open('courses_web_page/' + str(idx) + '.txt', 'w',  encoding='utf-8') as archivo:\n",
    "                archivo.write(str(elements)[60:-5]) "
   ]
  },
  {
   "cell_type": "markdown",
   "metadata": {},
   "source": [
    "# Main"
   ]
  },
  {
   "cell_type": "code",
   "execution_count": 107,
   "metadata": {},
   "outputs": [
    {
     "name": "stderr",
     "output_type": "stream",
     "text": [
      "C:\\Users\\52477\\AppData\\Local\\Temp\\ipykernel_15840\\774979625.py:3: DeprecationWarning: executable_path has been deprecated, please pass in a Service object\n",
      "  driver = webdriver.Chrome(executable_path=chromedriver_path)\n"
     ]
    }
   ],
   "source": [
    "# Define the login URL for the website\n",
    "login_url = 'https://cursos.desafiolatam.com/users/sign_in'\n",
    "\n",
    "# Start a session by calling the 'start_session' function with the login URL\n",
    "# This will open the browser and log in to the website\n",
    "driver = start_session(login_url)\n",
    "time.sleep(5)\n",
    "\n",
    "# Read the CSV file containing a list of interesting courses into a DataFrame\n",
    "files = pd.read_csv(\"InterestingLinks.csv\")\n",
    "\n",
    "# Call the 'scraping' function with the 'files' DataFrame and the 'driver' object\n",
    "scraping(files, driver)"
   ]
  }
 ],
 "metadata": {
  "interpreter": {
   "hash": "ef5b8d18e6fdfd933dcf2d87676eea39b16d717784d6db55cec332fd8bca603e"
  },
  "kernelspec": {
   "display_name": "Python 3.9.13 64-bit (windows store)",
   "language": "python",
   "name": "python3"
  },
  "language_info": {
   "codemirror_mode": {
    "name": "ipython",
    "version": 3
   },
   "file_extension": ".py",
   "mimetype": "text/x-python",
   "name": "python",
   "nbconvert_exporter": "python",
   "pygments_lexer": "ipython3",
   "version": "3.9.13"
  },
  "orig_nbformat": 4
 },
 "nbformat": 4,
 "nbformat_minor": 2
}
