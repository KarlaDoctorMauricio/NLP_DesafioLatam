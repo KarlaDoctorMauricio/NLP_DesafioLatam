{
 "cells": [
  {
   "cell_type": "code",
   "execution_count": 1,
   "metadata": {},
   "outputs": [
    {
     "name": "stderr",
     "output_type": "stream",
     "text": [
      "C:\\Users\\52477\\AppData\\Local\\Packages\\PythonSoftwareFoundation.Python.3.9_qbz5n2kfra8p0\\LocalCache\\local-packages\\Python39\\site-packages\\tqdm\\auto.py:21: TqdmWarning: IProgress not found. Please update jupyter and ipywidgets. See https://ipywidgets.readthedocs.io/en/stable/user_install.html\n",
      "  from .autonotebook import tqdm as notebook_tqdm\n"
     ]
    }
   ],
   "source": [
    "import pandas as pd\n",
    "from RAG_gemini import RAG"
   ]
  },
  {
   "cell_type": "code",
   "execution_count": 2,
   "metadata": {},
   "outputs": [
    {
     "name": "stdout",
     "output_type": "stream",
     "text": [
      "🔵🔵 1. Load data\n",
      "Introducción al Desarrollo Web\n",
      "Introducción al Análisis de datos con Python\n",
      "UX Content Design: un puente entre el negocio y las personas usuarias\n",
      "Ciberseguridad en la era digital: protección de datos y desafios emergentes\n",
      "ARTE EN EL CÓDIGO: frameworks para crear animaciones sorprendentes en frontend\n",
      "De OT A IT: Descubriendo nuevas fronteras en la gestión de datos industriales\n",
      "UX/UI En la era remota: Estrategias para un diseño efectivo\n",
      "Cómo la IA cambió el juego en la ciberseguridad\n",
      "React para principiantes: Construyendo aplicaciones web dinámicas\n",
      "Desentrañando el Machine Learning: Python como la llave del éxito\n",
      "UX/UI: Conceptos básicos para principiantes\n",
      "Abriendo caminos en STEM: Data Science con perspectiva de género\n",
      "Bases de GIT, GITHUB\n",
      "Construye una App Fullstack con Next.JS, Prisma y Shadcn/cn\n",
      "Hacking ético en acción: Experiencias y práctica real\n",
      "Hábitos de estudio para cursos intensivos\n",
      "CSS Avanzado\n",
      "Programación con Python para el análisis de datos\n",
      "Aprende Power BI desde cero\n",
      "Aprende a analizar datos con Python\n",
      "Aprende a analizar datos con Python II\n",
      "Redes neuronales desde cero: Un enfoque practico y fácil de entender\n",
      "GIT Y GITHUB PARA PRINCIPIANTES: Controla tu código como un profesional\n",
      "🔵🔵 2. Retriever documents\n",
      "Source: Introducción al Desarrollo Web\n",
      "Content: Descripción\n",
      "En este curso introductorio se revisarán las herramientas básicas para el desarrollo web. Para ello, se aprenden los conceptos base de desarrollo, entornos y flujos de trabajo; y además se conocerán las buenas prácticas de desarrollo web desde la construcción hasta la puesta en marcha.\n",
      "--------------------------------------------------\n",
      "Source: Introducción al Desarrollo Web\n",
      "Content: Introducción a HTML: conocer el contenido de un documento con HTML para definir el aspecto visual de una página web.\n",
      "Introducción a CSS: conocer el contenido de un documento con HTML y utilizar componentes CSS para definir el aspecto visual de la página web.\n",
      "--------------------------------------------------\n",
      "Source: CSS Avanzado\n",
      "Content: Grid: Aplicar la propiedad grid para crear layouts responsivos.\n",
      "\n",
      "\n",
      "Media Queries: Aplicar diseños responsivos haciendo uso de media queries y breakpoints.\n",
      "\n",
      "\n",
      "Animaciones con CSS: Crear transiciones, transformaciones y animaciones en CSS a un elemento HTML.\n",
      "\n",
      "Plataformas y software\n",
      "Firefox\n",
      "--------------------------------------------------\n",
      "🔵🔵 3. Generative answer *complete RAG\n",
      "['Deberías conocer los conceptos básicos de desarrollo web, entornos y flujos de trabajo, y las buenas prácticas de desarrollo web. También deberías familiarizarte con el contenido de un documento HTML para definir el aspecto visual de una página web, y con CSS para definir el estilo.\\n', [['Introducción al Desarrollo Web', 'https://cursos.desafiolatam.com/courses/take/introduccion-al-desarrollo-web/texts/46059379-en-que-consiste-el-curso'], ['CSS Avanzado', 'https://cursos.desafiolatam.com/courses/take/css-avanzado/texts/52396588-en-que-consiste-el-curso']]]\n"
     ]
    }
   ],
   "source": [
    "files = pd.read_csv(\"Scrapping/InterestingLinks.csv\")\n",
    "directory_path = \"Scrapping/courses_web_page\"\n",
    "query = \"Que deberia de conocer para programar en HTML??\"\n",
    "response = RAG(query, files, directory_path)\n",
    "print(response)"
   ]
  }
 ],
 "metadata": {
  "interpreter": {
   "hash": "ef5b8d18e6fdfd933dcf2d87676eea39b16d717784d6db55cec332fd8bca603e"
  },
  "kernelspec": {
   "display_name": "Python 3.9.13 64-bit (windows store)",
   "language": "python",
   "name": "python3"
  },
  "language_info": {
   "codemirror_mode": {
    "name": "ipython",
    "version": 3
   },
   "file_extension": ".py",
   "mimetype": "text/x-python",
   "name": "python",
   "nbconvert_exporter": "python",
   "pygments_lexer": "ipython3",
   "version": "3.9.13"
  },
  "orig_nbformat": 4
 },
 "nbformat": 4,
 "nbformat_minor": 2
}
